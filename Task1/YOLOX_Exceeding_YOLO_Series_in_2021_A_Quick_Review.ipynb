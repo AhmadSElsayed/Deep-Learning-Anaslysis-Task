{
  "nbformat": 4,
  "nbformat_minor": 0,
  "metadata": {
    "colab": {
      "name": "YOLOX: Exceeding YOLO Series in 2021 - A Quick Review.ipynb",
      "provenance": [],
      "collapsed_sections": [],
      "toc_visible": true
    },
    "kernelspec": {
      "name": "python3",
      "display_name": "Python 3"
    },
    "language_info": {
      "name": "python"
    },
    "accelerator": "GPU"
  },
  "cells": [
    {
      "cell_type": "markdown",
      "metadata": {
        "id": "JyeuKJzCzqKe"
      },
      "source": [
        "# YOLOX: Exceeding YOLO Series in 2021 - A Quick Review\n",
        "---"
      ]
    },
    {
      "cell_type": "markdown",
      "metadata": {
        "id": "ifdohB9GNVIL"
      },
      "source": [
        "## Technical code"
      ]
    },
    {
      "cell_type": "markdown",
      "metadata": {
        "id": "fkb-wGni0b4E"
      },
      "source": [
        "First, we import required libraries\n",
        "\n",
        "\n",
        "*   Gdrive libs for assets\n",
        "*   pytube to demo video classification\n",
        "*   Matplotlib fo image manipulation\n",
        "\n",
        "\n"
      ]
    },
    {
      "cell_type": "code",
      "metadata": {
        "id": "qXbLS5v9e96s"
      },
      "source": [
        "from pydrive.auth import GoogleAuth\n",
        "from pydrive.drive import GoogleDrive\n",
        "from google.colab import auth\n",
        "from oauth2client.client import GoogleCredentials\n",
        "!pip install pytube3\n",
        "from pytube import YouTube\n",
        "import matplotlib.pyplot as plt\n",
        "import matplotlib.image as mpimg\n",
        "import os"
      ],
      "execution_count": null,
      "outputs": []
    },
    {
      "cell_type": "markdown",
      "metadata": {
        "id": "VthOjyNc0x4a"
      },
      "source": [
        "Second, we clone the repository and one of the benchmark models to analyze. \n",
        "\n",
        "\n",
        "*Please note the benchmark is saved in GDrive for ease of access. Kindly authenticate GDrive with any account to get access of the benchmark model file*"
      ]
    },
    {
      "cell_type": "code",
      "metadata": {
        "id": "-tiQ8rmeJJIb"
      },
      "source": [
        "%cd /content\n",
        "!git clone https://github.com/Megvii-BaseDetection/YOLOX.git\n",
        "%cd YOLOX\n",
        "!pip3 install -U pip\n",
        "!pip3 install -r requirements.txt\n",
        "!pip3 install -v -e . "
      ],
      "execution_count": null,
      "outputs": []
    },
    {
      "cell_type": "code",
      "metadata": {
        "id": "o3ArFsaAKmvf"
      },
      "source": [
        "%cd /content\n",
        "auth.authenticate_user()\n",
        "gauth = GoogleAuth()\n",
        "gauth.credentials = GoogleCredentials.get_application_default()\n",
        "drive = GoogleDrive(gauth)\n",
        "\n",
        "file_id = '1hX6MD5pWtyx44qwb8yU9Ww1gHsgJX2Sj'\n",
        "downloaded = drive.CreateFile({'id': file_id})\n",
        "downloaded.GetContentFile('yolox_s.pth.tar')"
      ],
      "execution_count": null,
      "outputs": []
    },
    {
      "cell_type": "code",
      "metadata": {
        "id": "2WdJGKVxe7mm"
      },
      "source": [
        "# Showing a quick demo on dog.jpg to check if everything is okay\n",
        "%cd /content/YOLOX/\n",
        "!python tools/demo.py image -n yolox-s -c /content/yolox_s.pth.tar --path assets/dog.jpg --conf 0.3 --nms 0.65 --tsize 640 --save_result\n",
        "\n",
        "sample_dog_img = mpimg.imread(os.path.join(\n",
        "    '/content/YOLOX/YOLOX_outputs/yolox_s/vis_res',\n",
        "    os.listdir('/content/YOLOX/YOLOX_outputs/yolox_s/vis_res')[0],\n",
        "    'dog.jpg'))\n",
        "\n",
        "imgplot = plt.imshow(sample_dog_img)"
      ],
      "execution_count": null,
      "outputs": []
    },
    {
      "cell_type": "markdown",
      "metadata": {
        "id": "LCe36aT9DEf7"
      },
      "source": [
        "Optional: check this quick demo over video"
      ]
    },
    {
      "cell_type": "code",
      "metadata": {
        "id": "rEkeuBx5hb0l"
      },
      "source": [
        "yt = YouTube(\"https://www.youtube.com/watch?v=9wTg_7kf0h0&ab_channel=pr3ttykitty1337\")\n",
        "yt.streams.get_highest_resolution().download('./cat_on_ladder.mp4')"
      ],
      "execution_count": null,
      "outputs": []
    },
    {
      "cell_type": "code",
      "metadata": {
        "id": "ODRdSomIv2Dk"
      },
      "source": [
        "%cd /content/YOLOX/\n",
        "!python tools/demo.py video -n yolox-s -c /content/yolox_s.pth.tar --path /content/cat_on_ladder.mp4/Cat\\ On\\ Ladder.mp4 --conf 0.3 --nms 0.65 --tsize 640 --save_result"
      ],
      "execution_count": null,
      "outputs": []
    },
    {
      "cell_type": "markdown",
      "metadata": {
        "id": "qNRMiE7r1dhj"
      },
      "source": [
        "Installing COCO as our training dataset. I chose COCO for ease of installation and setup"
      ]
    },
    {
      "cell_type": "code",
      "metadata": {
        "id": "CcU3cAubIXao"
      },
      "source": [
        "# installing apex for training\n",
        "git clone https://github.com/NVIDIA/apex\n",
        "cd apex\n",
        "pip3 install -v --disable-pip-version-check --no-cache-dir --global-option=\"--cpp_ext\" --global-option=\"--cuda_ext\" ./"
      ],
      "execution_count": null,
      "outputs": []
    },
    {
      "cell_type": "code",
      "metadata": {
        "id": "KtmUVBtAJWrn"
      },
      "source": [
        "%cd /content\n",
        "!mkdir -p datasets/vtfs/COCO\n",
        "%cd datasets/vtfs/COCO\n",
        "!wget https://github.com/makerhanoi/via-datasets/releases/download/v1.0/via-trafficsign-coco-20210321.zip -O via-trafficsign-coco-20210321.zip\n",
        "!unzip via-trafficsign-coco-20210321.zip -d ."
      ],
      "execution_count": null,
      "outputs": []
    },
    {
      "cell_type": "code",
      "metadata": {
        "id": "b3-Tv6xLGyW5"
      },
      "source": [
        "# working on yolox-s as it is the middle ground between training time and accuracy\n",
        "# commented -d parameter specifices number of gpu to train on. DEFAULT: all GPUs\n",
        "# -b total batch size across all gpus. recommended 8 * number of gpus\n",
        "!export YOLOX_DATADIR=datasets/vtfs/\n",
        "%cd /content/YOLOX\n",
        "!python3 tools/train.py -f nano_like.py -b 8"
      ],
      "execution_count": null,
      "outputs": []
    },
    {
      "cell_type": "code",
      "metadata": {
        "id": "nS_gPcrFI2mR"
      },
      "source": [
        "# quick evaluation of benchmark model\n",
        "!python tools/eval.py -n yolox-s -c yolox_s.pth.tar -b 8 --conf 0.001"
      ],
      "execution_count": null,
      "outputs": []
    },
    {
      "cell_type": "markdown",
      "metadata": {
        "id": "iLp5a_tKKcUL"
      },
      "source": [
        "## Evaluation and Analysis\n"
      ]
    },
    {
      "cell_type": "markdown",
      "metadata": {
        "id": "HjoE_YMENbWW"
      },
      "source": [
        "### Architecture advantages\n",
        "\n",
        "\n",
        "1.   Anchor-free detection\n",
        "2.   Decoupled head\n",
        "3.   Advanced label assignment strategy: SimOTA\n",
        "4.   Strong data augmentation: Mosaic, MixUp\n",
        "5. optimal tradeoff between accuracy & performance which is more applicable to business (real-life) applications"
      ]
    },
    {
      "cell_type": "markdown",
      "metadata": {
        "id": "oz5vojfrN3c7"
      },
      "source": [
        "#### Anchor-free: the main pro of YOLOX\n",
        "The anchor-free approach suggested by the paper treats the object detection as a keypoint detection problem (like SIFT). This approach lowers complexity of the model, lowers complixties & number of predictions, and doesn't need specific configs or preferences of anchor boxes which limits generality of the model. The anchor mechanism also intoduces latency by moving data from GPU to CPU which is a major bottleneck"
      ]
    },
    {
      "cell_type": "markdown",
      "metadata": {
        "id": "TI4yX5GANEf-"
      },
      "source": [
        "### Architecture Disadvantages\n",
        "\n",
        "\n",
        "\n",
        "1.   fails in ocluded scenarios\n",
        "2.   not as strong as older versions in lower light environments\n",
        "3.   doesn't work very well with smaller objects\n",
        "\n"
      ]
    },
    {
      "cell_type": "markdown",
      "metadata": {
        "id": "98otUEfWRZ2J"
      },
      "source": [
        "### Training\n",
        "\n",
        "Sample training yielded mAP=~0.35 loss in the validation set of the COCO street signs dataset.\n",
        "\n",
        "I expect this to be higher with larger objects"
      ]
    },
    {
      "cell_type": "markdown",
      "metadata": {
        "id": "mgHDNe4rRV49"
      },
      "source": [
        "![output-onlinepngtools.png](data:image/png;base64,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)"
      ]
    },
    {
      "cell_type": "code",
      "metadata": {
        "id": "ziyjQD98RZCc"
      },
      "source": [
        ""
      ],
      "execution_count": null,
      "outputs": []
    }
  ]
}