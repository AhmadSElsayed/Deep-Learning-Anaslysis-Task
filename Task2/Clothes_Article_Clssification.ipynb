{
  "nbformat": 4,
  "nbformat_minor": 0,
  "metadata": {
    "colab": {
      "name": "Clothes Article Clssification.ipynb",
      "provenance": [],
      "collapsed_sections": []
    },
    "kernelspec": {
      "name": "python3",
      "display_name": "Python 3"
    },
    "language_info": {
      "name": "python"
    },
    "accelerator": "GPU"
  },
  "cells": [
    {
      "cell_type": "markdown",
      "metadata": {
        "id": "CmKbPqSwTKBv"
      },
      "source": [
        "# Clothes Article Clssification\n",
        "\n",
        "This Notebook presents a solution for a fine-grained clothing classification problem. The solution implemented using Keras library. The model trained on a Windows machine with an RTX 3090 GPU.\n",
        "\n"
      ]
    },
    {
      "cell_type": "code",
      "metadata": {
        "id": "rT0MRFkF0Z2O"
      },
      "source": [
        "#!pip3 install keras_flops"
      ],
      "execution_count": 2,
      "outputs": []
    },
    {
      "cell_type": "code",
      "metadata": {
        "id": "x0wrviEpodcA"
      },
      "source": [
        "import numpy as np\n",
        "import matplotlib.pyplot as plt\n",
        "import pandas as pd\n",
        "import seaborn as sns"
      ],
      "execution_count": 3,
      "outputs": []
    },
    {
      "cell_type": "code",
      "metadata": {
        "id": "gXGhnun2SwDo"
      },
      "source": [
        "from keras.callbacks import ModelCheckpoint\n",
        "from keras.datasets import fashion_mnist\n",
        "from keras.layers.core import Dense, Dropout, Activation\n",
        "from keras.layers import Conv2D, MaxPooling2D, Flatten\n",
        "from keras.models import Sequential\n",
        "from keras.utils import np_utils\n",
        "from sklearn.model_selection import train_test_split\n",
        "from sklearn.metrics import classification_report, confusion_matrix, recall_score, precision_score\n",
        "#from keras_flops import get_flops"
      ],
      "execution_count": 24,
      "outputs": []
    },
    {
      "cell_type": "markdown",
      "metadata": {
        "id": "sIRhv0cNTbls"
      },
      "source": [
        "## Data\n",
        "Fashion MNIST dataset, an alternative to MNIST. This is a dataset of 60,000 28x28 grayscale images of 10 fashion categories, along with a test set of 10,000 images. This dataset can be used as a drop-in replacement for MNIST."
      ]
    },
    {
      "cell_type": "markdown",
      "metadata": {
        "id": "Ijkb8JRYdzOt"
      },
      "source": [
        "### Analysis of Data"
      ]
    },
    {
      "cell_type": "code",
      "metadata": {
        "id": "Woi1cEKLTfXV"
      },
      "source": [
        "dataset = fashion_mnist\n",
        "class_names = ['T-shirt/top', 'Trouser', 'Pullover', 'Dress','Coat',\n",
        "               'Sandal', 'Shirt', 'Sneaker', 'Bag', 'Ankle boot']"
      ],
      "execution_count": 5,
      "outputs": []
    },
    {
      "cell_type": "code",
      "metadata": {
        "colab": {
          "base_uri": "https://localhost:8080/"
        },
        "id": "eInCp7_7UPdW",
        "outputId": "2e24371a-5fd3-447c-fafc-81c1f731a729"
      },
      "source": [
        "((x_train, y_train),(x_test, y_test)) = dataset.load_data()\n",
        "x_train, x_val, y_train, y_val = train_test_split(x_train,y_train, test_size = 0.1, random_state = 12345)\n",
        "print(x_train.shape, y_train.shape, x_test.shape, y_test.shape, x_val.shape, y_val.shape)"
      ],
      "execution_count": 6,
      "outputs": [
        {
          "output_type": "stream",
          "text": [
            "Downloading data from https://storage.googleapis.com/tensorflow/tf-keras-datasets/train-labels-idx1-ubyte.gz\n",
            "32768/29515 [=================================] - 0s 0us/step\n",
            "40960/29515 [=========================================] - 0s 0us/step\n",
            "Downloading data from https://storage.googleapis.com/tensorflow/tf-keras-datasets/train-images-idx3-ubyte.gz\n",
            "26427392/26421880 [==============================] - 0s 0us/step\n",
            "26435584/26421880 [==============================] - 0s 0us/step\n",
            "Downloading data from https://storage.googleapis.com/tensorflow/tf-keras-datasets/t10k-labels-idx1-ubyte.gz\n",
            "16384/5148 [===============================================================================================] - 0s 0us/step\n",
            "Downloading data from https://storage.googleapis.com/tensorflow/tf-keras-datasets/t10k-images-idx3-ubyte.gz\n",
            "4423680/4422102 [==============================] - 0s 0us/step\n",
            "4431872/4422102 [==============================] - 0s 0us/step\n",
            "(54000, 28, 28) (54000,) (10000, 28, 28) (10000,) (6000, 28, 28) (6000,)\n"
          ],
          "name": "stdout"
        }
      ]
    },
    {
      "cell_type": "markdown",
      "metadata": {
        "id": "XwHBBxKebSpI"
      },
      "source": [
        "*please note that MNIST is grayscale if drawn as RGB, the color will be distorted*"
      ]
    },
    {
      "cell_type": "code",
      "metadata": {
        "colab": {
          "base_uri": "https://localhost:8080/",
          "height": 298
        },
        "id": "MY4PYj1RUIDE",
        "outputId": "29827703-4181-4185-a6a8-03f4abe4b200"
      },
      "source": [
        "plt.imshow(x_train[20])\n",
        "plt.title(y_train[20])"
      ],
      "execution_count": 7,
      "outputs": [
        {
          "output_type": "execute_result",
          "data": {
            "text/plain": [
              "Text(0.5, 1.0, '7')"
            ]
          },
          "metadata": {
            "tags": []
          },
          "execution_count": 7
        },
        {
          "output_type": "display_data",
          "data": {
            "image/png": "[encoded data removed]",
            "text/plain": [
              "<Figure size 432x288 with 1 Axes>"
            ]
          },
          "metadata": {
            "tags": [],
            "needs_background": "light"
          }
        }
      ]
    },
    {
      "cell_type": "markdown",
      "metadata": {
        "id": "Xyje47oFeVru"
      },
      "source": [
        "Showing classes and images as a demo"
      ]
    },
    {
      "cell_type": "code",
      "metadata": {
        "colab": {
          "base_uri": "https://localhost:8080/",
          "height": 589
        },
        "id": "G0AD0Pgka9B4",
        "outputId": "bece0a63-8aa4-466e-fae9-83ecca34cb49"
      },
      "source": [
        "plt.figure(figsize=(10,10))\n",
        "for i in range(25):\n",
        "    plt.subplot(5,5,i+1)\n",
        "    plt.xticks([])\n",
        "    plt.yticks([])\n",
        "    plt.grid(False)\n",
        "    plt.imshow(x_train[i], cmap=plt.cm.binary)\n",
        "    plt.xlabel(class_names[y_train[i]])\n",
        "plt.show()"
      ],
      "execution_count": 8,
      "outputs": [
        {
          "output_type": "display_data",
          "data": {
            "image/png": "[encoded data removed]",
            "text/plain": [
              "<Figure size 720x720 with 25 Axes>"
            ]
          },
          "metadata": {
            "tags": []
          }
        }
      ]
    },
    {
      "cell_type": "markdown",
      "metadata": {
        "id": "BNpT2toyeQLw"
      },
      "source": [
        "Checking if dataset is balanced or not"
      ]
    },
    {
      "cell_type": "code",
      "metadata": {
        "colab": {
          "base_uri": "https://localhost:8080/",
          "height": 366
        },
        "id": "uHbY1bdUd8ZZ",
        "outputId": "c4d11847-c6be-485f-8c1d-20095d2ac948"
      },
      "source": [
        "sns.barplot(np.bincount(y_train),np.unique(y_train),orient='h')\n",
        "plt.title('Number of images per category')\n",
        "plt.xlabel('Number of images')\n",
        "plt.ylabel('image category index')"
      ],
      "execution_count": 9,
      "outputs": [
        {
          "output_type": "stream",
          "text": [
            "/usr/local/lib/python3.7/dist-packages/seaborn/_decorators.py:43: FutureWarning: Pass the following variables as keyword args: x, y. From version 0.12, the only valid positional argument will be `data`, and passing other arguments without an explicit keyword will result in an error or misinterpretation.\n",
            "  FutureWarning\n"
          ],
          "name": "stderr"
        },
        {
          "output_type": "execute_result",
          "data": {
            "text/plain": [
              "Text(0, 0.5, 'image category index')"
            ]
          },
          "metadata": {
            "tags": []
          },
          "execution_count": 9
        },
        {
          "output_type": "display_data",
          "data": {
            "image/png": "[encoded data removed]",
            "text/plain": [
              "<Figure size 432x288 with 1 Axes>"
            ]
          },
          "metadata": {
            "tags": [],
            "needs_background": "light"
          }
        }
      ]
    },
    {
      "cell_type": "markdown",
      "metadata": {
        "id": "s5LhzxGoblxS"
      },
      "source": [
        "### Preprocessing & Feature Engineering"
      ]
    },
    {
      "cell_type": "code",
      "metadata": {
        "colab": {
          "base_uri": "https://localhost:8080/"
        },
        "id": "XjN4v-7dbldm",
        "outputId": "1788b3c6-9da4-40cd-d7ec-9236bd0f0874"
      },
      "source": [
        "# Adding and extra dimension\n",
        "x_train = np.expand_dims(x_train,-1)\n",
        "x_test = np.expand_dims(x_test,-1)\n",
        "x_val = np.expand_dims(x_val,-1)\n",
        "\n",
        "# normalize inputs from 0-255 to 0.0-1.0\n",
        "x_train = x_train / 255.0\n",
        "x_test = x_test / 255.0\n",
        "x_val = x_val / 255.0\n",
        "\n",
        "# one-hot encoding the labels\n",
        "y_test = np_utils.to_categorical(y_test)\n",
        "y_train = np_utils.to_categorical(y_train)\n",
        "y_val = np_utils.to_categorical(y_val)\n",
        "\n",
        "print(x_train.shape, y_train.shape, x_test.shape, y_test.shape, x_val.shape, y_val.shape)"
      ],
      "execution_count": 10,
      "outputs": [
        {
          "output_type": "stream",
          "text": [
            "(54000, 28, 28, 1) (54000, 10) (10000, 28, 28, 1) (10000, 10) (6000, 28, 28, 1) (6000, 10)\n"
          ],
          "name": "stdout"
        }
      ]
    },
    {
      "cell_type": "markdown",
      "metadata": {
        "id": "a4j8bAPxby7g"
      },
      "source": [
        "## Model"
      ]
    },
    {
      "cell_type": "code",
      "metadata": {
        "id": "bAzZsTeI0Pqq"
      },
      "source": [
        "# Here we set the epochs for and batch size for the model and the training process\n",
        "EPOCHS = 50\n",
        "BATCH_SIZE= 64"
      ],
      "execution_count": 11,
      "outputs": []
    },
    {
      "cell_type": "markdown",
      "metadata": {
        "id": "u5uTLdOub5c_"
      },
      "source": [
        "### Model Defintion"
      ]
    },
    {
      "cell_type": "markdown",
      "metadata": {
        "id": "-EHJQRKr1DL7"
      },
      "source": [
        "This is a simple CNN that yields acceptable results. If I had more time, I would experiment more with resnets as the input images are small in size and resnets will give me a deeper network. Resnet34 is the go to example in this case"
      ]
    },
    {
      "cell_type": "code",
      "metadata": {
        "colab": {
          "base_uri": "https://localhost:8080/"
        },
        "id": "neYvc8ksb11U",
        "outputId": "352970d0-c582-4924-a95c-8be34c9ac544"
      },
      "source": [
        "model = Sequential()\n",
        "model.add(Conv2D(filters = 32, kernel_size=(3,3), padding = 'same', input_shape = (28,28,1)))\n",
        "model.add(Dropout(0.3))\n",
        "model.add(Conv2D(filters = 32, kernel_size=(3,3), padding = 'same',activation = 'relu'))\n",
        "model.add(MaxPooling2D(pool_size=(2,2)))\n",
        "model.add(Conv2D(filters = 64, kernel_size=(3,3), padding = 'same',activation = 'relu'))\n",
        "model.add(Dropout(0.3))\n",
        "model.add(Conv2D(filters = 64, kernel_size=(3,3), padding = 'same',activation = 'relu'))\n",
        "model.add(MaxPooling2D(pool_size=(2,2)))\n",
        "model.add(Flatten())\n",
        "\n",
        "model.add(Dense(128, activation='relu'))\n",
        "model.add(Dropout(0.4))\n",
        "model.add(Dense(512, activation='relu'))\n",
        "model.add(Dropout(0.4))\n",
        "model.add(Dense(10, activation='softmax'))\n",
        "\n",
        "\n",
        "model.build((BATCH_SIZE,28,28,1))\n",
        "model.summary()"
      ],
      "execution_count": 12,
      "outputs": [
        {
          "output_type": "stream",
          "text": [
            "Model: \"sequential\"\n",
            "_________________________________________________________________\n",
            "Layer (type)                 Output Shape              Param #   \n",
            "=================================================================\n",
            "conv2d (Conv2D)              (None, 28, 28, 32)        320       \n",
            "_________________________________________________________________\n",
            "dropout (Dropout)            (None, 28, 28, 32)        0         \n",
            "_________________________________________________________________\n",
            "conv2d_1 (Conv2D)            (None, 28, 28, 32)        9248      \n",
            "_________________________________________________________________\n",
            "max_pooling2d (MaxPooling2D) (None, 14, 14, 32)        0         \n",
            "_________________________________________________________________\n",
            "conv2d_2 (Conv2D)            (None, 14, 14, 64)        18496     \n",
            "_________________________________________________________________\n",
            "dropout_1 (Dropout)          (None, 14, 14, 64)        0         \n",
            "_________________________________________________________________\n",
            "conv2d_3 (Conv2D)            (None, 14, 14, 64)        36928     \n",
            "_________________________________________________________________\n",
            "max_pooling2d_1 (MaxPooling2 (None, 7, 7, 64)          0         \n",
            "_________________________________________________________________\n",
            "flatten (Flatten)            (None, 3136)              0         \n",
            "_________________________________________________________________\n",
            "dense (Dense)                (None, 128)               401536    \n",
            "_________________________________________________________________\n",
            "dropout_2 (Dropout)          (None, 128)               0         \n",
            "_________________________________________________________________\n",
            "dense_1 (Dense)              (None, 512)               66048     \n",
            "_________________________________________________________________\n",
            "dropout_3 (Dropout)          (None, 512)               0         \n",
            "_________________________________________________________________\n",
            "dense_2 (Dense)              (None, 10)                5130      \n",
            "=================================================================\n",
            "Total params: 537,706\n",
            "Trainable params: 537,706\n",
            "Non-trainable params: 0\n",
            "_________________________________________________________________\n"
          ],
          "name": "stdout"
        }
      ]
    },
    {
      "cell_type": "markdown",
      "metadata": {
        "id": "8wRpuKlrb4c7"
      },
      "source": [
        "### Model Compilation"
      ]
    },
    {
      "cell_type": "code",
      "metadata": {
        "id": "Wr_FSO_8b3uv"
      },
      "source": [
        "model.compile(loss='categorical_crossentropy', optimizer='adam', metrics = ['accuracy'])"
      ],
      "execution_count": 13,
      "outputs": []
    },
    {
      "cell_type": "markdown",
      "metadata": {
        "id": "KYoeFR-ncBCo"
      },
      "source": [
        "### Training"
      ]
    },
    {
      "cell_type": "markdown",
      "metadata": {
        "id": "l4bLhFFJqzTR"
      },
      "source": [
        "Using Keras' ModelCheckpoint to save the model as an HDF5 file for future use. This saved model will include the specified architecture and the weights that the model has learned over the training data. We could then load this model using load_model. By specifying save_best_only we only save the model at its best-performing epoch."
      ]
    },
    {
      "cell_type": "code",
      "metadata": {
        "colab": {
          "base_uri": "https://localhost:8080/"
        },
        "id": "O2lRTIqQcAMW",
        "outputId": "952845f4-f291-4aca-d4b0-538ca6ed3fae"
      },
      "source": [
        "filepath=\"mlp2-weights.{epoch:02d}-{val_loss:.2f}.hdf5\"\n",
        "checkpoint = ModelCheckpoint(filepath, monitor='val_accuracy', verbose=1, save_best_only=True, mode='max')\n",
        "\n",
        "history = model.fit(x_train,\n",
        "                    y_train,\n",
        "                    batch_size = BATCH_SIZE,\n",
        "                    epochs = EPOCHS,\n",
        "                    verbose = 1,\n",
        "                    validation_data = (x_val, y_val), \n",
        "                    callbacks = [checkpoint])\n",
        "                    "
      ],
      "execution_count": 14,
      "outputs": [
        {
          "output_type": "stream",
          "text": [
            "Epoch 1/50\n",
            "844/844 [==============================] - 50s 7ms/step - loss: 0.8611 - accuracy: 0.6755 - val_loss: 0.3391 - val_accuracy: 0.8828\n",
            "\n",
            "Epoch 00001: val_accuracy improved from -inf to 0.88283, saving model to mlp2-weights.01-0.34.hdf5\n",
            "Epoch 2/50\n",
            "844/844 [==============================] - 5s 6ms/step - loss: 0.3751 - accuracy: 0.8655 - val_loss: 0.2908 - val_accuracy: 0.8968\n",
            "\n",
            "Epoch 00002: val_accuracy improved from 0.88283 to 0.89683, saving model to mlp2-weights.02-0.29.hdf5\n",
            "Epoch 3/50\n",
            "844/844 [==============================] - 5s 6ms/step - loss: 0.3150 - accuracy: 0.8871 - val_loss: 0.2445 - val_accuracy: 0.9165\n",
            "\n",
            "Epoch 00003: val_accuracy improved from 0.89683 to 0.91650, saving model to mlp2-weights.03-0.24.hdf5\n",
            "Epoch 4/50\n",
            "844/844 [==============================] - 5s 6ms/step - loss: 0.2867 - accuracy: 0.8958 - val_loss: 0.2302 - val_accuracy: 0.9190\n",
            "\n",
            "Epoch 00004: val_accuracy improved from 0.91650 to 0.91900, saving model to mlp2-weights.04-0.23.hdf5\n",
            "Epoch 5/50\n",
            "844/844 [==============================] - 5s 6ms/step - loss: 0.2602 - accuracy: 0.9042 - val_loss: 0.2466 - val_accuracy: 0.9082\n",
            "\n",
            "Epoch 00005: val_accuracy did not improve from 0.91900\n",
            "Epoch 6/50\n",
            "844/844 [==============================] - 5s 6ms/step - loss: 0.2420 - accuracy: 0.9113 - val_loss: 0.2318 - val_accuracy: 0.9160\n",
            "\n",
            "Epoch 00006: val_accuracy did not improve from 0.91900\n",
            "Epoch 7/50\n",
            "844/844 [==============================] - 6s 7ms/step - loss: 0.2325 - accuracy: 0.9155 - val_loss: 0.2093 - val_accuracy: 0.9242\n",
            "\n",
            "Epoch 00007: val_accuracy improved from 0.91900 to 0.92417, saving model to mlp2-weights.07-0.21.hdf5\n",
            "Epoch 8/50\n",
            "844/844 [==============================] - 6s 7ms/step - loss: 0.2219 - accuracy: 0.9184 - val_loss: 0.1991 - val_accuracy: 0.9297\n",
            "\n",
            "Epoch 00008: val_accuracy improved from 0.92417 to 0.92967, saving model to mlp2-weights.08-0.20.hdf5\n",
            "Epoch 9/50\n",
            "844/844 [==============================] - 6s 7ms/step - loss: 0.2081 - accuracy: 0.9247 - val_loss: 0.2123 - val_accuracy: 0.9248\n",
            "\n",
            "Epoch 00009: val_accuracy did not improve from 0.92967\n",
            "Epoch 10/50\n",
            "844/844 [==============================] - 6s 7ms/step - loss: 0.2058 - accuracy: 0.9247 - val_loss: 0.1958 - val_accuracy: 0.9290\n",
            "\n",
            "Epoch 00010: val_accuracy did not improve from 0.92967\n",
            "Epoch 11/50\n",
            "844/844 [==============================] - 6s 7ms/step - loss: 0.1930 - accuracy: 0.9294 - val_loss: 0.2166 - val_accuracy: 0.9205\n",
            "\n",
            "Epoch 00011: val_accuracy did not improve from 0.92967\n",
            "Epoch 12/50\n",
            "844/844 [==============================] - 5s 6ms/step - loss: 0.1892 - accuracy: 0.9302 - val_loss: 0.1989 - val_accuracy: 0.9270\n",
            "\n",
            "Epoch 00012: val_accuracy did not improve from 0.92967\n",
            "Epoch 13/50\n",
            "844/844 [==============================] - 5s 7ms/step - loss: 0.1873 - accuracy: 0.9310 - val_loss: 0.1898 - val_accuracy: 0.9308\n",
            "\n",
            "Epoch 00013: val_accuracy improved from 0.92967 to 0.93083, saving model to mlp2-weights.13-0.19.hdf5\n",
            "Epoch 14/50\n",
            "844/844 [==============================] - 6s 7ms/step - loss: 0.1772 - accuracy: 0.9346 - val_loss: 0.1971 - val_accuracy: 0.9327\n",
            "\n",
            "Epoch 00014: val_accuracy improved from 0.93083 to 0.93267, saving model to mlp2-weights.14-0.20.hdf5\n",
            "Epoch 15/50\n",
            "844/844 [==============================] - 5s 7ms/step - loss: 0.1769 - accuracy: 0.9360 - val_loss: 0.1857 - val_accuracy: 0.9313\n",
            "\n",
            "Epoch 00015: val_accuracy did not improve from 0.93267\n",
            "Epoch 16/50\n",
            "844/844 [==============================] - 5s 7ms/step - loss: 0.1786 - accuracy: 0.9348 - val_loss: 0.1909 - val_accuracy: 0.9312\n",
            "\n",
            "Epoch 00016: val_accuracy did not improve from 0.93267\n",
            "Epoch 17/50\n",
            "844/844 [==============================] - 6s 7ms/step - loss: 0.1651 - accuracy: 0.9375 - val_loss: 0.1908 - val_accuracy: 0.9298\n",
            "\n",
            "Epoch 00017: val_accuracy did not improve from 0.93267\n",
            "Epoch 18/50\n",
            "844/844 [==============================] - 5s 6ms/step - loss: 0.1670 - accuracy: 0.9399 - val_loss: 0.1848 - val_accuracy: 0.9307\n",
            "\n",
            "Epoch 00018: val_accuracy did not improve from 0.93267\n",
            "Epoch 19/50\n",
            "844/844 [==============================] - 6s 7ms/step - loss: 0.1628 - accuracy: 0.9396 - val_loss: 0.1874 - val_accuracy: 0.9298\n",
            "\n",
            "Epoch 00019: val_accuracy did not improve from 0.93267\n",
            "Epoch 20/50\n",
            "844/844 [==============================] - 6s 7ms/step - loss: 0.1534 - accuracy: 0.9429 - val_loss: 0.1916 - val_accuracy: 0.9335\n",
            "\n",
            "Epoch 00020: val_accuracy improved from 0.93267 to 0.93350, saving model to mlp2-weights.20-0.19.hdf5\n",
            "Epoch 21/50\n",
            "844/844 [==============================] - 6s 7ms/step - loss: 0.1578 - accuracy: 0.9423 - val_loss: 0.1928 - val_accuracy: 0.9303\n",
            "\n",
            "Epoch 00021: val_accuracy did not improve from 0.93350\n",
            "Epoch 22/50\n",
            "844/844 [==============================] - 6s 7ms/step - loss: 0.1575 - accuracy: 0.9421 - val_loss: 0.1954 - val_accuracy: 0.9297\n",
            "\n",
            "Epoch 00022: val_accuracy did not improve from 0.93350\n",
            "Epoch 23/50\n",
            "844/844 [==============================] - 6s 7ms/step - loss: 0.1522 - accuracy: 0.9439 - val_loss: 0.1915 - val_accuracy: 0.9330\n",
            "\n",
            "Epoch 00023: val_accuracy did not improve from 0.93350\n",
            "Epoch 24/50\n",
            "844/844 [==============================] - 5s 7ms/step - loss: 0.1474 - accuracy: 0.9473 - val_loss: 0.1911 - val_accuracy: 0.9295\n",
            "\n",
            "Epoch 00024: val_accuracy did not improve from 0.93350\n",
            "Epoch 25/50\n",
            "844/844 [==============================] - 6s 7ms/step - loss: 0.1524 - accuracy: 0.9448 - val_loss: 0.1944 - val_accuracy: 0.9323\n",
            "\n",
            "Epoch 00025: val_accuracy did not improve from 0.93350\n",
            "Epoch 26/50\n",
            "844/844 [==============================] - 6s 7ms/step - loss: 0.1489 - accuracy: 0.9451 - val_loss: 0.1929 - val_accuracy: 0.9288\n",
            "\n",
            "Epoch 00026: val_accuracy did not improve from 0.93350\n",
            "Epoch 27/50\n",
            "844/844 [==============================] - 6s 7ms/step - loss: 0.1459 - accuracy: 0.9465 - val_loss: 0.1927 - val_accuracy: 0.9325\n",
            "\n",
            "Epoch 00027: val_accuracy did not improve from 0.93350\n",
            "Epoch 28/50\n",
            "844/844 [==============================] - 6s 7ms/step - loss: 0.1450 - accuracy: 0.9485 - val_loss: 0.1989 - val_accuracy: 0.9305\n",
            "\n",
            "Epoch 00028: val_accuracy did not improve from 0.93350\n",
            "Epoch 29/50\n",
            "844/844 [==============================] - 6s 7ms/step - loss: 0.1466 - accuracy: 0.9462 - val_loss: 0.1847 - val_accuracy: 0.9337\n",
            "\n",
            "Epoch 00029: val_accuracy improved from 0.93350 to 0.93367, saving model to mlp2-weights.29-0.18.hdf5\n",
            "Epoch 30/50\n",
            "844/844 [==============================] - 6s 7ms/step - loss: 0.1366 - accuracy: 0.9493 - val_loss: 0.1993 - val_accuracy: 0.9315\n",
            "\n",
            "Epoch 00030: val_accuracy did not improve from 0.93367\n",
            "Epoch 31/50\n",
            "844/844 [==============================] - 6s 7ms/step - loss: 0.1398 - accuracy: 0.9490 - val_loss: 0.1974 - val_accuracy: 0.9323\n",
            "\n",
            "Epoch 00031: val_accuracy did not improve from 0.93367\n",
            "Epoch 32/50\n",
            "844/844 [==============================] - 6s 7ms/step - loss: 0.1399 - accuracy: 0.9498 - val_loss: 0.1967 - val_accuracy: 0.9322\n",
            "\n",
            "Epoch 00032: val_accuracy did not improve from 0.93367\n",
            "Epoch 33/50\n",
            "844/844 [==============================] - 6s 7ms/step - loss: 0.1414 - accuracy: 0.9495 - val_loss: 0.1999 - val_accuracy: 0.9307\n",
            "\n",
            "Epoch 00033: val_accuracy did not improve from 0.93367\n",
            "Epoch 34/50\n",
            "844/844 [==============================] - 6s 7ms/step - loss: 0.1354 - accuracy: 0.9498 - val_loss: 0.1988 - val_accuracy: 0.9307\n",
            "\n",
            "Epoch 00034: val_accuracy did not improve from 0.93367\n",
            "Epoch 35/50\n",
            "844/844 [==============================] - 6s 7ms/step - loss: 0.1390 - accuracy: 0.9491 - val_loss: 0.1931 - val_accuracy: 0.9320\n",
            "\n",
            "Epoch 00035: val_accuracy did not improve from 0.93367\n",
            "Epoch 36/50\n",
            "844/844 [==============================] - 6s 7ms/step - loss: 0.1352 - accuracy: 0.9518 - val_loss: 0.2037 - val_accuracy: 0.9305\n",
            "\n",
            "Epoch 00036: val_accuracy did not improve from 0.93367\n",
            "Epoch 37/50\n",
            "844/844 [==============================] - 6s 7ms/step - loss: 0.1280 - accuracy: 0.9544 - val_loss: 0.1961 - val_accuracy: 0.9298\n",
            "\n",
            "Epoch 00037: val_accuracy did not improve from 0.93367\n",
            "Epoch 38/50\n",
            "844/844 [==============================] - 6s 7ms/step - loss: 0.1280 - accuracy: 0.9526 - val_loss: 0.1972 - val_accuracy: 0.9327\n",
            "\n",
            "Epoch 00038: val_accuracy did not improve from 0.93367\n",
            "Epoch 39/50\n",
            "844/844 [==============================] - 6s 7ms/step - loss: 0.1386 - accuracy: 0.9500 - val_loss: 0.2033 - val_accuracy: 0.9302\n",
            "\n",
            "Epoch 00039: val_accuracy did not improve from 0.93367\n",
            "Epoch 40/50\n",
            "844/844 [==============================] - 6s 7ms/step - loss: 0.1291 - accuracy: 0.9537 - val_loss: 0.1988 - val_accuracy: 0.9348\n",
            "\n",
            "Epoch 00040: val_accuracy improved from 0.93367 to 0.93483, saving model to mlp2-weights.40-0.20.hdf5\n",
            "Epoch 41/50\n",
            "844/844 [==============================] - 6s 7ms/step - loss: 0.1329 - accuracy: 0.9529 - val_loss: 0.1983 - val_accuracy: 0.9298\n",
            "\n",
            "Epoch 00041: val_accuracy did not improve from 0.93483\n",
            "Epoch 42/50\n",
            "844/844 [==============================] - 6s 7ms/step - loss: 0.1279 - accuracy: 0.9542 - val_loss: 0.2124 - val_accuracy: 0.9283\n",
            "\n",
            "Epoch 00042: val_accuracy did not improve from 0.93483\n",
            "Epoch 43/50\n",
            "844/844 [==============================] - 6s 7ms/step - loss: 0.1275 - accuracy: 0.9547 - val_loss: 0.1955 - val_accuracy: 0.9333\n",
            "\n",
            "Epoch 00043: val_accuracy did not improve from 0.93483\n",
            "Epoch 44/50\n",
            "844/844 [==============================] - 6s 7ms/step - loss: 0.1313 - accuracy: 0.9526 - val_loss: 0.2043 - val_accuracy: 0.9312\n",
            "\n",
            "Epoch 00044: val_accuracy did not improve from 0.93483\n",
            "Epoch 45/50\n",
            "844/844 [==============================] - 6s 7ms/step - loss: 0.1306 - accuracy: 0.9524 - val_loss: 0.2093 - val_accuracy: 0.9283\n",
            "\n",
            "Epoch 00045: val_accuracy did not improve from 0.93483\n",
            "Epoch 46/50\n",
            "844/844 [==============================] - 6s 7ms/step - loss: 0.1215 - accuracy: 0.9558 - val_loss: 0.2136 - val_accuracy: 0.9325\n",
            "\n",
            "Epoch 00046: val_accuracy did not improve from 0.93483\n",
            "Epoch 47/50\n",
            "844/844 [==============================] - 6s 7ms/step - loss: 0.1289 - accuracy: 0.9540 - val_loss: 0.2106 - val_accuracy: 0.9303\n",
            "\n",
            "Epoch 00047: val_accuracy did not improve from 0.93483\n",
            "Epoch 48/50\n",
            "844/844 [==============================] - 6s 7ms/step - loss: 0.1214 - accuracy: 0.9547 - val_loss: 0.2040 - val_accuracy: 0.9335\n",
            "\n",
            "Epoch 00048: val_accuracy did not improve from 0.93483\n",
            "Epoch 49/50\n",
            "844/844 [==============================] - 6s 7ms/step - loss: 0.1284 - accuracy: 0.9549 - val_loss: 0.2099 - val_accuracy: 0.9288\n",
            "\n",
            "Epoch 00049: val_accuracy did not improve from 0.93483\n",
            "Epoch 50/50\n",
            "844/844 [==============================] - 6s 7ms/step - loss: 0.1305 - accuracy: 0.9535 - val_loss: 0.2092 - val_accuracy: 0.9292\n",
            "\n",
            "Epoch 00050: val_accuracy did not improve from 0.93483\n"
          ],
          "name": "stdout"
        }
      ]
    },
    {
      "cell_type": "markdown",
      "metadata": {
        "id": "KhOpf0xzcJt0"
      },
      "source": [
        "### Plot epoch accuracy\n"
      ]
    },
    {
      "cell_type": "code",
      "metadata": {
        "colab": {
          "base_uri": "https://localhost:8080/",
          "height": 295
        },
        "id": "I0LYeB3jcDWm",
        "outputId": "04291967-b3b6-4d9f-87d8-2fa648369c72"
      },
      "source": [
        "plt.plot(range(1,1+len(history.history['accuracy'])), history.history['accuracy'])\n",
        "plt.plot(range(1,1+len(history.history['val_accuracy'])), history.history['val_accuracy'])\n",
        "plt.title('Model Accuracy vs Number of Epochs')\n",
        "plt.ylabel('Accuracy')\n",
        "plt.xlabel('Epoch Number')\n",
        "plt.legend(['train', 'test'], loc='best')\n",
        "plt.xticks(np.arange(0,28,2))\n",
        "plt.show()"
      ],
      "execution_count": 15,
      "outputs": [
        {
          "output_type": "display_data",
          "data": {
            "image/png": "[encoded data removed]",
            "text/plain": [
              "<Figure size 432x288 with 1 Axes>"
            ]
          },
          "metadata": {
            "tags": [],
            "needs_background": "light"
          }
        }
      ]
    },
    {
      "cell_type": "code",
      "metadata": {
        "colab": {
          "base_uri": "https://localhost:8080/"
        },
        "id": "vN1qqm5FrUZE",
        "outputId": "1b6c52fa-9295-47ac-b1e8-84feee83b372"
      },
      "source": [
        "best_score = max(history.history['val_accuracy'])\n",
        "best_epoch = np.array(history.history['val_accuracy']).argmax()+1\n",
        "print('Best test accuracy was %f at epoch %i' % (best_score, best_epoch))"
      ],
      "execution_count": 16,
      "outputs": [
        {
          "output_type": "stream",
          "text": [
            "Best test accuracy was 0.934833 at epoch 40\n"
          ],
          "name": "stdout"
        }
      ]
    },
    {
      "cell_type": "markdown",
      "metadata": {
        "id": "l1BRpAUBcPAY"
      },
      "source": [
        "### Plot epoch loss\n"
      ]
    },
    {
      "cell_type": "code",
      "metadata": {
        "colab": {
          "base_uri": "https://localhost:8080/",
          "height": 295
        },
        "id": "FKX8kaDqcMiG",
        "outputId": "ecef7191-1f97-4257-f227-d5a699d78807"
      },
      "source": [
        "plt.plot(history.history['loss'])\n",
        "plt.plot(history.history['val_loss'])\n",
        "plt.title('Epoch loss')\n",
        "plt.xlabel('epochs')\n",
        "plt.ylabel('loss')\n",
        "plt.legend(['train', 'validation']);"
      ],
      "execution_count": 17,
      "outputs": [
        {
          "output_type": "display_data",
          "data": {
            "image/png": "[encoded data removed]",
            "text/plain": [
              "<Figure size 432x288 with 1 Axes>"
            ]
          },
          "metadata": {
            "tags": [],
            "needs_background": "light"
          }
        }
      ]
    },
    {
      "cell_type": "markdown",
      "metadata": {
        "id": "gwOUkf5JccXn"
      },
      "source": [
        "## Evaluation"
      ]
    },
    {
      "cell_type": "markdown",
      "metadata": {
        "id": "TY9RBdm-ciwt"
      },
      "source": [
        "### Apply & Compare Predictions"
      ]
    },
    {
      "cell_type": "code",
      "metadata": {
        "colab": {
          "base_uri": "https://localhost:8080/"
        },
        "id": "zIbl9MTFc6T1",
        "outputId": "93a6de9d-3895-490a-937f-7cbb8ee42fc7"
      },
      "source": [
        "y_pred = model.predict(x_test)\n",
        "model.evaluate(x_test, y_test)"
      ],
      "execution_count": 18,
      "outputs": [
        {
          "output_type": "stream",
          "text": [
            "313/313 [==============================] - 1s 3ms/step - loss: 0.2475 - accuracy: 0.9206\n"
          ],
          "name": "stdout"
        },
        {
          "output_type": "execute_result",
          "data": {
            "text/plain": [
              "[0.2474953681230545, 0.9205999970436096]"
            ]
          },
          "metadata": {
            "tags": []
          },
          "execution_count": 18
        }
      ]
    },
    {
      "cell_type": "markdown",
      "metadata": {
        "id": "9fDVQn7MriYE"
      },
      "source": [
        "### Confusion Matrix"
      ]
    },
    {
      "cell_type": "code",
      "metadata": {
        "id": "CLuXSNRurkOe"
      },
      "source": [
        "y_pred=np.argmax(y_pred, axis=1)\n",
        "y_test=np.argmax(y_test, axis=1)\n",
        "cm = confusion_matrix(y_test, y_pred)"
      ],
      "execution_count": 19,
      "outputs": []
    },
    {
      "cell_type": "code",
      "metadata": {
        "colab": {
          "base_uri": "https://localhost:8080/"
        },
        "id": "-XIjPBmSRlww",
        "outputId": "ef9405a2-20e5-40b3-9b64-fdc271ecc972"
      },
      "source": [
        "print('precesion: ', precision_score(y_test, y_pred, average='micro'))\n",
        "print('recall: ', recall_score(y_test, y_pred, average='micro'))\n"
      ],
      "execution_count": 27,
      "outputs": [
        {
          "output_type": "stream",
          "text": [
            "precesion:  0.9206\n",
            "recall:  0.9206\n"
          ],
          "name": "stdout"
        }
      ]
    },
    {
      "cell_type": "code",
      "metadata": {
        "colab": {
          "base_uri": "https://localhost:8080/",
          "height": 390
        },
        "id": "g87-S9Iwr2va",
        "outputId": "340f6e04-2996-48e5-c482-ac7d00cbbf71"
      },
      "source": [
        "matrix = pd.DataFrame(confusion_matrix(y_test, y_pred), index=class_names, columns=class_names)\n",
        "matrix.index.name = 'Predicted'\n",
        "matrix.columns.name = 'Actual'\n",
        "matrix"
      ],
      "execution_count": 21,
      "outputs": [
        {
          "output_type": "execute_result",
          "data": {
            "text/html": [
              "<div>\n",
              "<style scoped>\n",
              "    .dataframe tbody tr th:only-of-type {\n",
              "        vertical-align: middle;\n",
              "    }\n",
              "\n",
              "    .dataframe tbody tr th {\n",
              "        vertical-align: top;\n",
              "    }\n",
              "\n",
              "    .dataframe thead th {\n",
              "        text-align: right;\n",
              "    }\n",
              "</style>\n",
              "<table border=\"1\" class=\"dataframe\">\n",
              "  <thead>\n",
              "    <tr style=\"text-align: right;\">\n",
              "      <th>Actual</th>\n",
              "      <th>T-shirt/top</th>\n",
              "      <th>Trouser</th>\n",
              "      <th>Pullover</th>\n",
              "      <th>Dress</th>\n",
              "      <th>Coat</th>\n",
              "      <th>Sandal</th>\n",
              "      <th>Shirt</th>\n",
              "      <th>Sneaker</th>\n",
              "      <th>Bag</th>\n",
              "      <th>Ankle boot</th>\n",
              "    </tr>\n",
              "    <tr>\n",
              "      <th>Predicted</th>\n",
              "      <th></th>\n",
              "      <th></th>\n",
              "      <th></th>\n",
              "      <th></th>\n",
              "      <th></th>\n",
              "      <th></th>\n",
              "      <th></th>\n",
              "      <th></th>\n",
              "      <th></th>\n",
              "      <th></th>\n",
              "    </tr>\n",
              "  </thead>\n",
              "  <tbody>\n",
              "    <tr>\n",
              "      <th>T-shirt/top</th>\n",
              "      <td>886</td>\n",
              "      <td>1</td>\n",
              "      <td>18</td>\n",
              "      <td>12</td>\n",
              "      <td>2</td>\n",
              "      <td>0</td>\n",
              "      <td>76</td>\n",
              "      <td>0</td>\n",
              "      <td>5</td>\n",
              "      <td>0</td>\n",
              "    </tr>\n",
              "    <tr>\n",
              "      <th>Trouser</th>\n",
              "      <td>1</td>\n",
              "      <td>992</td>\n",
              "      <td>0</td>\n",
              "      <td>5</td>\n",
              "      <td>0</td>\n",
              "      <td>0</td>\n",
              "      <td>1</td>\n",
              "      <td>0</td>\n",
              "      <td>1</td>\n",
              "      <td>0</td>\n",
              "    </tr>\n",
              "    <tr>\n",
              "      <th>Pullover</th>\n",
              "      <td>19</td>\n",
              "      <td>1</td>\n",
              "      <td>911</td>\n",
              "      <td>8</td>\n",
              "      <td>23</td>\n",
              "      <td>0</td>\n",
              "      <td>38</td>\n",
              "      <td>0</td>\n",
              "      <td>0</td>\n",
              "      <td>0</td>\n",
              "    </tr>\n",
              "    <tr>\n",
              "      <th>Dress</th>\n",
              "      <td>13</td>\n",
              "      <td>4</td>\n",
              "      <td>8</td>\n",
              "      <td>931</td>\n",
              "      <td>13</td>\n",
              "      <td>0</td>\n",
              "      <td>30</td>\n",
              "      <td>0</td>\n",
              "      <td>1</td>\n",
              "      <td>0</td>\n",
              "    </tr>\n",
              "    <tr>\n",
              "      <th>Coat</th>\n",
              "      <td>1</td>\n",
              "      <td>2</td>\n",
              "      <td>84</td>\n",
              "      <td>22</td>\n",
              "      <td>830</td>\n",
              "      <td>0</td>\n",
              "      <td>61</td>\n",
              "      <td>0</td>\n",
              "      <td>0</td>\n",
              "      <td>0</td>\n",
              "    </tr>\n",
              "    <tr>\n",
              "      <th>Sandal</th>\n",
              "      <td>0</td>\n",
              "      <td>0</td>\n",
              "      <td>0</td>\n",
              "      <td>0</td>\n",
              "      <td>0</td>\n",
              "      <td>975</td>\n",
              "      <td>0</td>\n",
              "      <td>19</td>\n",
              "      <td>0</td>\n",
              "      <td>6</td>\n",
              "    </tr>\n",
              "    <tr>\n",
              "      <th>Shirt</th>\n",
              "      <td>109</td>\n",
              "      <td>4</td>\n",
              "      <td>63</td>\n",
              "      <td>27</td>\n",
              "      <td>42</td>\n",
              "      <td>0</td>\n",
              "      <td>747</td>\n",
              "      <td>0</td>\n",
              "      <td>8</td>\n",
              "      <td>0</td>\n",
              "    </tr>\n",
              "    <tr>\n",
              "      <th>Sneaker</th>\n",
              "      <td>0</td>\n",
              "      <td>0</td>\n",
              "      <td>0</td>\n",
              "      <td>0</td>\n",
              "      <td>0</td>\n",
              "      <td>2</td>\n",
              "      <td>0</td>\n",
              "      <td>982</td>\n",
              "      <td>0</td>\n",
              "      <td>16</td>\n",
              "    </tr>\n",
              "    <tr>\n",
              "      <th>Bag</th>\n",
              "      <td>1</td>\n",
              "      <td>1</td>\n",
              "      <td>0</td>\n",
              "      <td>3</td>\n",
              "      <td>1</td>\n",
              "      <td>1</td>\n",
              "      <td>0</td>\n",
              "      <td>3</td>\n",
              "      <td>990</td>\n",
              "      <td>0</td>\n",
              "    </tr>\n",
              "    <tr>\n",
              "      <th>Ankle boot</th>\n",
              "      <td>0</td>\n",
              "      <td>0</td>\n",
              "      <td>0</td>\n",
              "      <td>0</td>\n",
              "      <td>0</td>\n",
              "      <td>4</td>\n",
              "      <td>0</td>\n",
              "      <td>33</td>\n",
              "      <td>1</td>\n",
              "      <td>962</td>\n",
              "    </tr>\n",
              "  </tbody>\n",
              "</table>\n",
              "</div>"
            ],
            "text/plain": [
              "Actual       T-shirt/top  Trouser  Pullover  ...  Sneaker  Bag  Ankle boot\n",
              "Predicted                                    ...                          \n",
              "T-shirt/top          886        1        18  ...        0    5           0\n",
              "Trouser                1      992         0  ...        0    1           0\n",
              "Pullover              19        1       911  ...        0    0           0\n",
              "Dress                 13        4         8  ...        0    1           0\n",
              "Coat                   1        2        84  ...        0    0           0\n",
              "Sandal                 0        0         0  ...       19    0           6\n",
              "Shirt                109        4        63  ...        0    8           0\n",
              "Sneaker                0        0         0  ...      982    0          16\n",
              "Bag                    1        1         0  ...        3  990           0\n",
              "Ankle boot             0        0         0  ...       33    1         962\n",
              "\n",
              "[10 rows x 10 columns]"
            ]
          },
          "metadata": {
            "tags": []
          },
          "execution_count": 21
        }
      ]
    },
    {
      "cell_type": "markdown",
      "metadata": {
        "id": "QbdqWwKFyFff"
      },
      "source": [
        "### Speed"
      ]
    },
    {
      "cell_type": "markdown",
      "metadata": {
        "id": "g9yKWgiq1sn3"
      },
      "source": [
        "The most expensive layers are the First and second denses, followed by the last concolutional layer\n",
        "\n",
        "This is an easy way to calcualte flops and macs. But to make sure it works on google colab, I calulated it locally and added the results below. \n",
        "\n",
        "*to run it yourself, change keras `from keras.models import Sequential` to `from tensorflow.keras.models import Sequential`*\n",
        "\n"
      ]
    },
    {
      "cell_type": "code",
      "metadata": {
        "id": "hpJYvc0-yK-6"
      },
      "source": [
        "# FLOPS = 37636028 \n",
        "# MACs = 18818014.0\n",
        "\n",
        "# flops = get_flops(model, batch_size=1)\n",
        "# macs = 0.5 * flops\n",
        "# print(flops, macs)\n"
      ],
      "execution_count": 22,
      "outputs": []
    },
    {
      "cell_type": "markdown",
      "metadata": {
        "id": "zZZOZqbk1b4L"
      },
      "source": [
        "## Conclusions"
      ]
    },
    {
      "cell_type": "markdown",
      "metadata": {
        "id": "Ee2ba7fGL-Ou"
      },
      "source": [
        "Given the above information here are the pros, cons and things to improve in the model"
      ]
    },
    {
      "cell_type": "markdown",
      "metadata": {
        "id": "sA_Y9Z0CaT66"
      },
      "source": [
        "### Pros\n",
        "\n",
        "1. effiecient model. has small memory foot print and fast runtime\n",
        "2. presicion and recall are high yield a near-optimal model"
      ]
    },
    {
      "cell_type": "markdown",
      "metadata": {
        "id": "FpkC4JJ8an31"
      },
      "source": [
        "### CONS\n",
        "1. dataset is too simple which will make the model perform badly when faced with real-life scenarios and images\n",
        "2. model saturated at ~6th epoch which means the model needs to be more complex in general as well\n"
      ]
    },
    {
      "cell_type": "markdown",
      "metadata": {
        "id": "4b_I-AHPa-Ke"
      },
      "source": [
        "### Improvements\n",
        "1. Using Resnets (or skip-connection based model) which will allow us to create deeper networks. This in turn will allow to fit the realistic analysis of clothing articles classification as it is quite diverse\n",
        "\n",
        "2. try to run on realistic clothes article images to get real sense of performance"
      ]
    }
  ]
}